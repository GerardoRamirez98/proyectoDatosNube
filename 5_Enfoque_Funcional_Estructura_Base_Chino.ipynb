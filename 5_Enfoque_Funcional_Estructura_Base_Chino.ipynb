{
 "cells": [
  {
   "cell_type": "code",
   "execution_count": 1,
   "id": "9ac29880",
   "metadata": {},
   "outputs": [],
   "source": [
    "import boto3\n",
    "import pandas as pd\n",
    "from io import StringIO, BytesIO\n",
    "from datetime import datetime, timedelta"
   ]
  },
  {
   "cell_type": "code",
   "execution_count": 2,
   "id": "51849c2d",
   "metadata": {},
   "outputs": [],
   "source": [
    "# Adapter Layer\n",
    "\n",
    "def read_csv_to_df(filename, bucket):\n",
    "    csv_obj = bucket.Object(key=filename).get().get('Body').read().decode('utf-8')\n",
    "    data = StringIO(csv_obj)\n",
    "    df = pd.read_csv(data, delimiter=',')\n",
    "    return df\n",
    "\n",
    "def write_df_to_s3(trg_bucket, key, df_all, s3):\n",
    "    out_buffer = BytesIO()\n",
    "    df_all.to_parquet(out_buffer, index=False)\n",
    "    bucket_target = s3.Bucket(trg_bucket)\n",
    "    bucket_target.put_object(Body=out_buffer.getvalue(), Key=key)\n",
    "    return bucket_target\n",
    "\n",
    "def return_objects(src_bucket, src_format,arg_date, bucket):\n",
    "    arg_date_dt = datetime.strptime(arg_date, src_format).date() - timedelta(days=1)\n",
    "    objects = [obj for obj in bucket.objects.all() if datetime.strptime(obj.key.split('/')[0], src_format).date() >= arg_date_dt]\n",
    "    ##objKey= obj.key\n",
    "    return objects"
   ]
  },
  {
   "cell_type": "code",
   "execution_count": 3,
   "id": "05c77de6",
   "metadata": {},
   "outputs": [],
   "source": [
    "# Application Layer\n",
    "\n",
    "def extract(objects, bucket, columns, key):\n",
    "    df_all = pd.concat([read_csv_to_df(obj.key, bucket) for obj in objects], ignore_index=True)\n",
    "    df_all = df_all.loc[:, columns]\n",
    "    df_all.dropna(inplace=True)\n",
    "    return df_all\n",
    "\n",
    "def transform_report(df_all, arg_date, columns):\n",
    "    df_all['opening_price'] = df_all.sort_values(by=['Time']).groupby(['ISIN', 'Date'])['StartPrice'].transform('first')\n",
    "    df_all['closing_price'] = df_all.sort_values(by=['Time']).groupby(['ISIN', 'Date'])['StartPrice'].transform('last')\n",
    "    df_all = df_all.groupby(['ISIN', 'Date'], as_index=False).agg(opening_price_eur=('opening_price', 'min'), closing_price_eur=('closing_price', 'min'), minimum_price_eur=('MinPrice', 'min'), maximum_price_eur=('MaxPrice', 'max'), daily_traded_volume=('TradedVolume', 'sum'))\n",
    "    df_all['prev_closing_price'] = df_all.sort_values(by=['Date']).groupby(['ISIN'])['closing_price_eur'].shift(1)\n",
    "    df_all['change_prev_closing_%'] = (df_all['closing_price_eur'] - df_all['prev_closing_price']) / df_all['prev_closing_price'] * 100\n",
    "    df_all.drop(columns=['prev_closing_price'], inplace=True)\n",
    "    df_all = df_all.round(decimals=2)\n",
    "    df_all = df_all[df_all.Date >= arg_date]\n",
    "    return df_all\n",
    "\n",
    "def load(bucket_target, key, s3):\n",
    "    \n",
    "    objKey=[]\n",
    "    for obj in bucket_target.objects.all():\n",
    "        objKey.append(obj.key)\n",
    "    prq_obj = bucket_target.Object(key=objKey[-1]).get().get('Body').read()\n",
    "    data = BytesIO(prq_obj)\n",
    "    return data\n",
    "\n",
    "def etl_report(bucket_target, key, s3):\n",
    "    df_report = pd.read_parquet(load(bucket_target, key, s3))\n",
    "    return df_report\n",
    "    "
   ]
  },
  {
   "cell_type": "code",
   "execution_count": null,
   "id": "95b3797a",
   "metadata": {},
   "outputs": [],
   "source": []
  },
  {
   "cell_type": "code",
   "execution_count": 4,
   "id": "015346ba",
   "metadata": {},
   "outputs": [],
   "source": [
    "# main function entrypoint\n",
    "\n",
    "def main():\n",
    "    # Parameters/Configurations    \n",
    "    \n",
    "    arg_date = input(\"Introduce una fecha (ej: 2022-03-14): \")\n",
    "    src_format = '%Y-%m-%d'\n",
    "    src_bucket = 'deutsche-boerse-xetra-pds'\n",
    "    trg_bucket = 'xetra-bucket-idn'\n",
    "    columns = ['ISIN', 'Date', 'Time', 'StartPrice', 'MaxPrice', 'MinPrice', 'EndPrice', 'TradedVolume']\n",
    "    key = 'xetra_daily_report_' + datetime.today().strftime(\"%Y%m%d_%H%M%S\") + '.parquet'\n",
    "    \n",
    "     # Init    \n",
    "    s3 = boto3.resource('s3')\n",
    "    bucket = s3.Bucket(src_bucket)\n",
    "    objects = return_objects(src_bucket, src_format,arg_date, bucket)\n",
    "    df_all = extract(objects, bucket, columns, key)\n",
    "    df_all =  transform_report(df_all, arg_date, columns)\n",
    "    bucket_target = write_df_to_s3(trg_bucket, key, df_all, s3)\n",
    "    \n",
    "    # run application\n",
    "    print(etl_report(bucket_target, key, s3))\n",
    "    "
   ]
  },
  {
   "cell_type": "code",
   "execution_count": 5,
   "id": "5f4c044a",
   "metadata": {},
   "outputs": [
    {
     "name": "stdout",
     "output_type": "stream",
     "text": [
      "Introduce una fecha (ej: 2022-03-14): 2022-03-14\n",
      "              ISIN        Date  opening_price_eur  closing_price_eur  \\\n",
      "0     AT000000STR1  2022-03-14              35.45              36.25   \n",
      "1     AT00000FACC2  2022-03-14               7.83               7.84   \n",
      "2     AT0000606306  2022-03-14              13.66              13.27   \n",
      "3     AT0000609607  2022-03-14              11.36              11.30   \n",
      "4     AT0000644505  2022-03-14              91.40              92.70   \n",
      "...            ...         ...                ...                ...   \n",
      "3213  XS2427363036  2022-03-14              22.38              21.78   \n",
      "3214  XS2427363895  2022-03-14              18.58              18.58   \n",
      "3215  XS2427474023  2022-03-14              24.01              24.25   \n",
      "3216  XS2434891219  2022-03-14               3.57               3.54   \n",
      "3217  XS2437455608  2022-03-14              25.92              26.67   \n",
      "\n",
      "      minimum_price_eur  maximum_price_eur  daily_traded_volume  \\\n",
      "0                 35.45              36.40                  113   \n",
      "1                  7.83               7.85                  130   \n",
      "2                 13.18              13.89                34743   \n",
      "3                 11.30              11.40                  200   \n",
      "4                 91.40              93.80                 2388   \n",
      "...                 ...                ...                  ...   \n",
      "3213              21.78              22.38                    0   \n",
      "3214              18.58              18.58                    0   \n",
      "3215              24.01              24.25                   10   \n",
      "3216               3.54               3.57                 3936   \n",
      "3217              25.92              26.67                    0   \n",
      "\n",
      "      change_prev_closing_%  \n",
      "0                       NaN  \n",
      "1                       NaN  \n",
      "2                       NaN  \n",
      "3                       NaN  \n",
      "4                       NaN  \n",
      "...                     ...  \n",
      "3213                    NaN  \n",
      "3214                    NaN  \n",
      "3215                    NaN  \n",
      "3216                    NaN  \n",
      "3217                    NaN  \n",
      "\n",
      "[3218 rows x 8 columns]\n"
     ]
    }
   ],
   "source": [
    "# run\n",
    "\n",
    "main()"
   ]
  },
  {
   "cell_type": "code",
   "execution_count": null,
   "id": "7670c187",
   "metadata": {},
   "outputs": [],
   "source": []
  }
 ],
 "metadata": {
  "kernelspec": {
   "display_name": "Python 3 (ipykernel)",
   "language": "python",
   "name": "python3"
  },
  "language_info": {
   "codemirror_mode": {
    "name": "ipython",
    "version": 3
   },
   "file_extension": ".py",
   "mimetype": "text/x-python",
   "name": "python",
   "nbconvert_exporter": "python",
   "pygments_lexer": "ipython3",
   "version": "3.9.0"
  }
 },
 "nbformat": 4,
 "nbformat_minor": 5
}
