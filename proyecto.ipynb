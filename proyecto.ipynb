{
 "cells": [
  {
   "cell_type": "code",
   "execution_count": 1,
   "metadata": {},
   "outputs": [],
   "source": [
    "import boto3\n",
    "\n",
    "import pandas as pd\n",
    "from io import StringIO, BytesIO\n",
    "from datetime import datetime, timedelta"
   ]
  },
  {
   "cell_type": "code",
   "execution_count": 2,
   "metadata": {},
   "outputs": [],
   "source": [
    "class Extract():\n",
    "    def __init__(self, arg_date, src_format, src_bucket, trg_bucket, columns, key, s3, bucket):\n",
    "\n",
    "        # Parameters/Configurations\n",
    "        self.arg_date = arg_date\n",
    "        self.src_format = src_format\n",
    "        self.src_bucket = src_bucket\n",
    "        self.trg_bucket = trg_bucket\n",
    "        self.columns = columns\n",
    "        self.key = key\n",
    "        self.s3 = s3\n",
    "        self.bucket = bucket\n",
    "        \n",
    "    def read_csv_to_df(self, filename,bucket):\n",
    "        csv_obj = bucket.Object(key=filename).get().get('Body').read().decode('utf-8')\n",
    "        data = StringIO(csv_obj)\n",
    "        df = pd.read_csv(data, delimiter=',')\n",
    "        return df\n",
    "\n",
    "    def return_objects(self):\n",
    "        arg_date_dt = datetime.strptime(self.arg_date, self.src_format).date() - timedelta(days=1)\n",
    "        print(arg_date_dt)        \n",
    "        objects = [obj for obj in self.bucket.objects.all() if datetime.strptime(obj.key.split('/')[0], self.src_format).date() >= arg_date_dt]\n",
    "        return objects\n",
    "\n",
    "    def extract(self, objects,columns,bucket):\n",
    "        df_all = pd.concat([self.read_csv_to_df(obj.key, bucket) for obj in objects], ignore_index=True)\n",
    "        df_all = df_all.loc[:, columns]\n",
    "        df_all.dropna(inplace=True)\n",
    "        print(df_all)\n",
    "        return df_all\n"
   ]
  },
  {
   "cell_type": "code",
   "execution_count": 3,
   "metadata": {},
   "outputs": [],
   "source": [
    "class Transform():\n",
    "\n",
    "    def transform_report(self, df_all, arg_date, columns):\n",
    "\n",
    "        df_all = df_all.loc[:, columns]\n",
    "        df_all.dropna(inplace=True)\n",
    "        df_all.shape\n",
    "        df_all = df\n",
    "\n",
    "        df_all['opening_price'] = df_all.sort_values(by=['Time']).groupby(['ISIN', 'Date'])['StartPrice'].transform('first')\n",
    "        df_all['closing_price'] = df_all.sort_values(by=['Time']).groupby(['ISIN', 'Date'])['StartPrice'].transform('last')\n",
    "        df_all = df_all.groupby(['ISIN', 'Date'], as_index=False).agg(opening_price_eur=('opening_price', 'min'), closing_price_eur=('closing_price', 'min'), minimum_price_eur=('MinPrice', 'min'), maximum_price_eur=('MaxPrice', 'max'), daily_traded_volume=('TradedVolume', 'sum'))\n",
    "        df_all['prev_closing_price'] = df_all.sort_values(by=['Date']).groupby(['ISIN'])['closing_price_eur'].shift(1)\n",
    "        df_all['change_prev_closing_%'] = (df_all['closing_price_eur'] - df_all['prev_closing_price']) / df_all['prev_closing_price'] * 100\n",
    "        df_all.drop(columns=['prev_closing_price'], inplace=True)\n",
    "        df_all = df_all.round(decimals=2)\n",
    "        df_all = df_all[df_all.Date >= df_all]\n",
    "        print(df_all)\n",
    "        return df_all\n",
    "        "
   ]
  },
  {
   "cell_type": "code",
   "execution_count": 4,
   "metadata": {},
   "outputs": [],
   "source": [
    "class Load():\n",
    "        \n",
    "    def write_df_to_s3(self, df_all,s3,trg_bucket,key):\n",
    "        out_buffer = BytesIO()\n",
    "        df_all.to_parquet(out_buffer, index=False)\n",
    "        bucket_target = s3.Bucket(trg_bucket)\n",
    "        bucket_target.put_object(Body=out_buffer.getvalue(), Key=key)\n",
    "        return bucket_target\n",
    "\n",
    "    def load(self, bucket_target):\n",
    "        objKey=[]\n",
    "        for obj in bucket_target.objects.all():\n",
    "            objKey.append(obj.key)\n",
    "        prq_obj = bucket_target.Object(key=objKey[-1]).get().get('Body').read()\n",
    "        data = BytesIO(prq_obj)\n",
    "        return data\n",
    "\n",
    "    def etl_report(self, bucket_target):\n",
    "        df_report = pd.read_parquet(self.load(bucket_target))\n",
    "        return df_report"
   ]
  },
  {
   "cell_type": "code",
   "execution_count": 5,
   "metadata": {},
   "outputs": [],
   "source": [
    "\n",
    "def main():\n",
    "    arg_date = '2022-04-07'\n",
    "    src_format = '%Y-%m-%d'\n",
    "    src_bucket = 'deutsche-boerse-xetra-pds'\n",
    "    trg_bucket = 'xetra-bucket-gerardo-2022'\n",
    "    columns = ['ISIN', 'Date', 'Time', 'StartPrice', 'MaxPrice', 'MinPrice', 'EndPrice', 'TradedVolume']\n",
    "    key = 'xetra_daily_report_' + datetime.today().strftime(\"%Y%m%d_%H%M%S\") + '.parquet'\n",
    "    s3 = boto3.resource('s3')\n",
    "    bucket = s3.Bucket(src_bucket)\n",
    "\n",
    "    ext = Extract(arg_date, src_format, src_bucket, trg_bucket, columns, key, s3, bucket)\n",
    "    \n",
    "    objects = ext.return_objects()\n",
    "    df_all = ext.extract(objects,columns,bucket)\n",
    "    \n",
    "    tran = Transform(ext.df_all)\n",
    "    df_all = tran.transform_report(df_all)\n",
    "    \n",
    "\n",
    "    ld = Load()\n",
    "    bucket_target = ld.write_df_to_s3(df_all,ext.s3,ext.trg_bucket,ext.key)\n",
    "    \n",
    "\n",
    "    print(ld.etl_report(bucket_target))"
   ]
  },
  {
   "cell_type": "code",
   "execution_count": 6,
   "metadata": {},
   "outputs": [
    {
     "name": "stdout",
     "output_type": "stream",
     "text": [
      "2022-04-06\n",
      "                ISIN        Date   Time StartPrice MaxPrice MinPrice EndPrice  \\\n",
      "0       AT0000A0E9W5  2022-04-06  07:00       17.8     17.8    17.79     17.8   \n",
      "1       DE000A0DJ6J9  2022-04-06  07:00      43.02    43.02    43.02    43.02   \n",
      "2       DE000A0D6554  2022-04-06  07:00     17.145    17.15    16.91    16.91   \n",
      "3       DE000A0D9PT0  2022-04-06  07:00      195.8   196.85    195.6   196.85   \n",
      "4       DE000A0HN5C6  2022-04-06  07:00      30.71    30.71    30.71    30.71   \n",
      "...              ...         ...    ...        ...      ...      ...      ...   \n",
      "329101  DE0006231004  2022-04-08  15:42      27.55    27.55    27.55    27.55   \n",
      "329102  DE000A0JL9W6  2022-04-08  15:43       85.5     85.5     85.5     85.5   \n",
      "329103  DE000A0WMPJ6  2022-04-08  15:43       19.5     19.5     19.5     19.5   \n",
      "329104  DE000A0WMPJ6  2022-04-08  15:44       19.5     19.5     19.5     19.5   \n",
      "329105  GB0007980591  2022-04-08  15:44      4.681    4.681    4.681    4.681   \n",
      "\n",
      "       TradedVolume  \n",
      "0              2040  \n",
      "1              2089  \n",
      "2             85446  \n",
      "3              2425  \n",
      "4               212  \n",
      "...             ...  \n",
      "329101          500  \n",
      "329102           89  \n",
      "329103         3000  \n",
      "329104         4293  \n",
      "329105         2780  \n",
      "\n",
      "[329106 rows x 8 columns]\n"
     ]
    },
    {
     "ename": "AttributeError",
     "evalue": "'Extract' object has no attribute 'df_all'",
     "output_type": "error",
     "traceback": [
      "\u001b[1;31m---------------------------------------------------------------------------\u001b[0m",
      "\u001b[1;31mAttributeError\u001b[0m                            Traceback (most recent call last)",
      "\u001b[1;32mc:\\Users\\Gerardo Rmz\\Documents\\gerardo\\repositorios\\proyectoDatosNube\\proyecto.ipynb Cell 6'\u001b[0m in \u001b[0;36m<cell line: 1>\u001b[1;34m()\u001b[0m\n\u001b[1;32m----> <a href='vscode-notebook-cell:/c%3A/Users/Gerardo%20Rmz/Documents/gerardo/repositorios/proyectoDatosNube/proyecto.ipynb#ch0000005?line=0'>1</a>\u001b[0m main()\n",
      "\u001b[1;32mc:\\Users\\Gerardo Rmz\\Documents\\gerardo\\repositorios\\proyectoDatosNube\\proyecto.ipynb Cell 5'\u001b[0m in \u001b[0;36mmain\u001b[1;34m()\u001b[0m\n\u001b[0;32m     <a href='vscode-notebook-cell:/c%3A/Users/Gerardo%20Rmz/Documents/gerardo/repositorios/proyectoDatosNube/proyecto.ipynb#ch0000004?line=12'>13</a>\u001b[0m objects \u001b[39m=\u001b[39m ext\u001b[39m.\u001b[39mreturn_objects()\n\u001b[0;32m     <a href='vscode-notebook-cell:/c%3A/Users/Gerardo%20Rmz/Documents/gerardo/repositorios/proyectoDatosNube/proyecto.ipynb#ch0000004?line=13'>14</a>\u001b[0m df_all \u001b[39m=\u001b[39m ext\u001b[39m.\u001b[39mextract(objects,columns,bucket)\n\u001b[1;32m---> <a href='vscode-notebook-cell:/c%3A/Users/Gerardo%20Rmz/Documents/gerardo/repositorios/proyectoDatosNube/proyecto.ipynb#ch0000004?line=15'>16</a>\u001b[0m tran \u001b[39m=\u001b[39m Transform(ext\u001b[39m.\u001b[39;49mdf_all)\n\u001b[0;32m     <a href='vscode-notebook-cell:/c%3A/Users/Gerardo%20Rmz/Documents/gerardo/repositorios/proyectoDatosNube/proyecto.ipynb#ch0000004?line=16'>17</a>\u001b[0m df_all \u001b[39m=\u001b[39m tran\u001b[39m.\u001b[39mtransform_report(df_all)\n\u001b[0;32m     <a href='vscode-notebook-cell:/c%3A/Users/Gerardo%20Rmz/Documents/gerardo/repositorios/proyectoDatosNube/proyecto.ipynb#ch0000004?line=19'>20</a>\u001b[0m ld \u001b[39m=\u001b[39m Load()\n",
      "\u001b[1;31mAttributeError\u001b[0m: 'Extract' object has no attribute 'df_all'"
     ]
    }
   ],
   "source": [
    "main()"
   ]
  }
 ],
 "metadata": {
  "interpreter": {
   "hash": "3fc101cb3b0c590d49d7b75cf33e7dfc6fd6039ad56cc5f847ff14383603a395"
  },
  "kernelspec": {
   "display_name": "Python 3 (ipykernel)",
   "language": "python",
   "name": "python3"
  },
  "language_info": {
   "codemirror_mode": {
    "name": "ipython",
    "version": 3
   },
   "file_extension": ".py",
   "mimetype": "text/x-python",
   "name": "python",
   "nbconvert_exporter": "python",
   "pygments_lexer": "ipython3",
   "version": "3.10.4"
  }
 },
 "nbformat": 4,
 "nbformat_minor": 2
}
