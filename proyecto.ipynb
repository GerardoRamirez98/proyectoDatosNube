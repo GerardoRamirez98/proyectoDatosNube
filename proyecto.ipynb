{
 "cells": [
  {
   "cell_type": "code",
   "execution_count": 11,
   "metadata": {},
   "outputs": [],
   "source": [
    "import boto3\n",
    "import pandas as pd\n",
    "from io import StringIO, BytesIO\n",
    "from datetime import datetime, timedelta"
   ]
  },
  {
   "cell_type": "code",
   "execution_count": 12,
   "metadata": {},
   "outputs": [],
   "source": [
    "class Extract():\n",
    "    def __init__(self, arg_date, src_format, src_bucket, trg_bucket, columns, key, s3, bucket, objects, df_all, bucket_target):\n",
    "        \n",
    "        # Parameters/Configurations\n",
    "        self.arg_date = arg_date\n",
    "        self.src_format = src_format\n",
    "        self.src_bucket = src_bucket\n",
    "        self.trg_bucket = trg_bucket\n",
    "        self.columns = columns\n",
    "        self.key = key\n",
    "        self.bucket = bucket\n",
    "        self.objects = objects\n",
    "        self.df_all = df_all\n",
    "        self.bucket_target = bucket_target\n",
    "\n",
    "        arg_date = '2022-03-02'\n",
    "        src_format = '%Y-%m-%d'\n",
    "        src_bucket = 'deutsche-boerse-xetra-pds'\n",
    "        trg_bucket = 'xetra-bucket-2022-03-02-gerardo'\n",
    "        columns = ['ISIN', 'Date', 'Time', 'StartPrice', 'MaxPrice', 'MinPrice', 'EndPrice', 'TradedVolume']\n",
    "        key = 'xetra_daily_report_' + datetime.today().strftime(\"%Y%m%d_%H%M%S\") + '.parquet'\n",
    "        \n",
    "        s3 = boto3.resource('s3')\n",
    "        bucket = s3.Bucket(src_bucket)\n",
    "        objects = return_objects(src_bucket, src_format, arg_date, bucket)\n",
    "        df_all = extract(objects, bucket, columns, key)\n",
    "        df_all = transform_report(df_all, arg_date, columns)\n",
    "        bucket_target = write_df_to_s3(trg_bucket, key, df_all, s3)\n",
    "        \n",
    "\n",
    "def read_csv_to_df(self, filename):\n",
    "    csv_obj = self.bucket.Object(key=filename).get().get('Body').read().decode('utf-8')\n",
    "    data = StringIO(csv_obj)\n",
    "    df = pd.read_csv(data, delimiter=',')\n",
    "    return df\n",
    "\n",
    "def write_df_to_s3(self):\n",
    "    out_buffer = BytesIO()\n",
    "    self.df_all.to_parquet(out_buffer, index=False)\n",
    "    bucket_target = self.s3.Bucket(self.trg_bucket)\n",
    "    bucket_target.put_object(Body=out_buffer.getvalue(), Key=self.key)\n",
    "    return bucket_target\n",
    "\n",
    "def return_objects(self):\n",
    "    arg_date_dt = datetime.strptime(self.arg_date, self.src_format).date() - timedelta(days=1)\n",
    "    objects = [obj for obj in self.bucket.objects.all() if datetime.strptime(obj.key.split('/')[0], self.src_format).date() >= arg_date_dt]\n",
    "    ##objKey= obj.key\n",
    "    return objects\n",
    "\n",
    "def extract(self):\n",
    "    df_all = pd.concat([read_csv_to_df(obj.self.key, self.bucket) for obj in self.objects], ignore_index=True)\n",
    "    df_all = df_all.loc[:, self.columns]\n",
    "    df_all.dropna(inplace=True)\n",
    "    return df_all"
   ]
  },
  {
   "cell_type": "code",
   "execution_count": 13,
   "metadata": {},
   "outputs": [],
   "source": [
    "class Tranform(Extract):\n",
    "    def __init__(self, arg_date, columns, df_all):\n",
    "        super(Tranform, self).__init__(self, arg_date, columns, df_all)\n",
    "\n",
    "def transform_report(self, df_all, arg_date):\n",
    "    self.df_all['opening_price'] = df_all.sort_values(by=['Time']).groupby(['ISIN', 'Date'])['StartPrice'].transform('first')\n",
    "    self.df_all['closing_price'] = df_all.sort_values(by=['Time']).groupby(['ISIN', 'Date'])['StartPrice'].transform('last')\n",
    "    self.df_all = df_all.groupby(['ISIN', 'Date'], as_index=False).agg(opening_price_eur=('opening_price', 'min'), closing_price_eur=('closing_price', 'min'), minimum_price_eur=('MinPrice', 'min'), maximum_price_eur=('MaxPrice', 'max'), daily_traded_volume=('TradedVolume', 'sum'))\n",
    "    self.df_all['prev_closing_price'] = df_all.sort_values(by=['Date']).groupby(['ISIN'])['closing_price_eur'].shift(1)\n",
    "    self.df_all['change_prev_closing_%'] = (df_all['closing_price_eur'] - df_all['prev_closing_price']) / df_all['prev_closing_price'] * 100\n",
    "    self.df_all.drop(columns=['prev_closing_price'], inplace=True)\n",
    "    self.df_all = df_all.round(decimals=2)\n",
    "    self.df_all = df_all[df_all.Date >= arg_date]\n",
    "    return df_all\n",
    "        "
   ]
  },
  {
   "cell_type": "code",
   "execution_count": 14,
   "metadata": {},
   "outputs": [],
   "source": [
    "class Load(Tranform):\n",
    "    def __init__(self, bucket_target, key, s3):\n",
    "        super(Tranform, self).__init__(self, bucket_target, key, s3)\n",
    "\n",
    "def load(self, bucket_target):\n",
    "\n",
    "    objKey=[]\n",
    "    for obj in self.bucket_target.objects.all():\n",
    "        objKey.append(obj.key)\n",
    "    prq_obj = bucket_target.Object(key=objKey[-1]).get().get('Body').read()\n",
    "    data = BytesIO(prq_obj)\n",
    "    return data\n",
    "\n",
    "def etl_report(self):\n",
    "    df_report = pd.read_parquet(load(self.bucket_target, self.key, selfs3))\n",
    "    return df_report"
   ]
  },
  {
   "cell_type": "code",
   "execution_count": 16,
   "metadata": {},
   "outputs": [],
   "source": [
    "class Main():\n",
    "    def main(self):\n",
    "        print(etl_report(self.bucket_target, self.key, self.s3))"
   ]
  },
  {
   "cell_type": "code",
   "execution_count": 2,
   "metadata": {},
   "outputs": [
    {
     "ename": "NameError",
     "evalue": "name 'Main' is not defined",
     "output_type": "error",
     "traceback": [
      "\u001b[1;31m---------------------------------------------------------------------------\u001b[0m",
      "\u001b[1;31mNameError\u001b[0m                                 Traceback (most recent call last)",
      "\u001b[1;32mc:\\Users\\Gerardo Rmz\\Documents\\gerardo\\repositorios\\proyectoDatosNube\\proyecto.ipynb Cell 6'\u001b[0m in \u001b[0;36m<cell line: 1>\u001b[1;34m()\u001b[0m\n\u001b[1;32m----> <a href='vscode-notebook-cell:/c%3A/Users/Gerardo%20Rmz/Documents/gerardo/repositorios/proyectoDatosNube/proyecto.ipynb#ch0000005?line=0'>1</a>\u001b[0m Main()\n\u001b[0;32m      <a href='vscode-notebook-cell:/c%3A/Users/Gerardo%20Rmz/Documents/gerardo/repositorios/proyectoDatosNube/proyecto.ipynb#ch0000005?line=1'>2</a>\u001b[0m Extract()\n\u001b[0;32m      <a href='vscode-notebook-cell:/c%3A/Users/Gerardo%20Rmz/Documents/gerardo/repositorios/proyectoDatosNube/proyecto.ipynb#ch0000005?line=2'>3</a>\u001b[0m Tranform()\n",
      "\u001b[1;31mNameError\u001b[0m: name 'Main' is not defined"
     ]
    }
   ],
   "source": [
    "Main()\n",
    "Extract()\n",
    "Tranform()\n",
    "Load()"
   ]
  }
 ],
 "metadata": {
  "interpreter": {
   "hash": "3fc101cb3b0c590d49d7b75cf33e7dfc6fd6039ad56cc5f847ff14383603a395"
  },
  "kernelspec": {
   "display_name": "Python 3.9.0 ('gerardo-98-l7L7veG7')",
   "language": "python",
   "name": "python3"
  },
  "language_info": {
   "codemirror_mode": {
    "name": "ipython",
    "version": 3
   },
   "file_extension": ".py",
   "mimetype": "text/x-python",
   "name": "python",
   "nbconvert_exporter": "python",
   "pygments_lexer": "ipython3",
   "version": "3.9.0"
  },
  "orig_nbformat": 4
 },
 "nbformat": 4,
 "nbformat_minor": 2
}
