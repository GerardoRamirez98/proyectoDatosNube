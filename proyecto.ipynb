{
 "cells": [
  {
   "cell_type": "code",
   "execution_count": 1,
   "metadata": {},
   "outputs": [],
   "source": [
    "import boto3\n",
    "\n",
    "import pandas as pd\n",
    "from io import StringIO, BytesIO\n",
    "from datetime import datetime, timedelta\n",
    "\n",
    "import sklearn\n",
    "import matplotlib.pyplot as plt"
   ]
  },
  {
   "cell_type": "code",
   "execution_count": 2,
   "metadata": {},
   "outputs": [],
   "source": [
    "class Extract():\n",
    "    def __init__(self, arg_date, src_format, src_bucket, trg_bucket, columns, key, s3, bucket):\n",
    "\n",
    "        # Parameters/Configurations\n",
    "        self.arg_date = arg_date\n",
    "        self.src_format = src_format\n",
    "        self.src_bucket = src_bucket\n",
    "        self.trg_bucket = trg_bucket\n",
    "        self.columns = columns\n",
    "        self.key = key\n",
    "        self.s3 = s3\n",
    "        self.bucket = bucket\n",
    "        \n",
    "    def read_csv_to_df(self, filename,bucket):\n",
    "        csv_obj = bucket.Object(key=filename).get().get('Body').read().decode('utf-8')\n",
    "        data = StringIO(csv_obj)\n",
    "        df = pd.read_csv(data, delimiter=',')\n",
    "        return df\n",
    "\n",
    "    def return_objects(self):\n",
    "        arg_date_dt = datetime.strptime(self.arg_date, self.src_format).date() - timedelta(days=1)\n",
    "        print(arg_date_dt)        \n",
    "        objects = [obj for obj in self.bucket.objects.all() if datetime.strptime(obj.key.split('/')[0], self.src_format).date() >= arg_date_dt]\n",
    "        return objects\n",
    "\n",
    "    def extract(self, objects,columns,bucket):\n",
    "        df_all = pd.concat([self.read_csv_to_df(obj.key, bucket) for obj in objects], ignore_index=True)\n",
    "        df_all = df_all.loc[:, columns]\n",
    "        df_all.dropna(inplace=True)\n",
    "        print(df_all)\n",
    "        return df_all\n"
   ]
  },
  {
   "cell_type": "code",
   "execution_count": 3,
   "metadata": {},
   "outputs": [],
   "source": [
    "class Transform():\n",
    "\n",
    "    def transform_report(self, df_all, arg_date, columns):\n",
    "\n",
    "        df_all = df_all.loc[:, columns]\n",
    "        df_all.dropna(inplace=True)\n",
    "\n",
    "        df_all = df_all.loc[(df_all[\"Time\"] >= '08:00') & (df_all[\"Time\"]<='12:00'),['ISIN', 'Date', 'Time', 'StartPrice', 'EndPrice']]\n",
    "        df_all.shape\n",
    "        df_all = df_all.round(decimals=2)\n",
    "        df_all = df_all[df_all.Date >= arg_date]\n",
    "\n",
    "        df_all['STD'] = df_all[[\"StartPrice\", \"EndPrice\"]].std(axis = 1)\n",
    "        df_all\n",
    "\n",
    "        df_all['MXN'] = df_all['EndPrice'] * 22.83\n",
    "        df_all\n",
    "\n",
    "        df_all.plot(x='EndPrice', y='MXN', style='o')\n",
    "\n",
    "        plt.title('EndPrice - MXN')\n",
    "        plt.xlabel('EndPrice')\n",
    "        plt.ylabel('MXN')\n",
    "        plt.show()\n",
    "\n",
    "        x=df_all['EndPrice'].values.reshape(-1,1)\n",
    "        y=df_all['MXN'].values.reshape(-1,1)\n",
    "\n",
    "        from sklearn.model_selection import train_test_split\n",
    "        x_train, x_test, y_train, y_test = train_test_split(x, y, test_size=0.2, random_state=0)\n",
    "\n",
    "        from sklearn.linear_model import LinearRegression\n",
    "        lr = LinearRegression()\n",
    "        lr.fit(x_train, y_train)\n",
    "\n",
    "        print(lr.intercept_)\n",
    "        print(lr.coef_)\n",
    "\n",
    "        y_pred = lr.predict(x_test)\n",
    "\n",
    "        df_prediccion = pd.DataFrame({'Actual': y_test.flatten(), 'Prediccion': y_pred.flatten()})\n",
    "        df_prediccion\n",
    "\n",
    "        plt.scatter(x_test, y_test, color='blue')\n",
    "        plt.plot(x_test, y_pred, color='red', linewidth=2)\n",
    "        plt.show()\n",
    "\n",
    "        df_all=pd.concat([df_all, df_prediccion])\n",
    "        df_all = df_all.infer_objects()\n",
    "        df_all.dtypes\n",
    "        df_all\n",
    "        \n",
    "        print(df_all)\n",
    "        return df_all\n",
    "        "
   ]
  },
  {
   "cell_type": "code",
   "execution_count": 4,
   "metadata": {},
   "outputs": [],
   "source": [
    "class Load():\n",
    "        \n",
    "    def write_df_to_s3(self, df_all,s3,trg_bucket,key):\n",
    "        out_buffer = BytesIO()\n",
    "        df_all.to_parquet(out_buffer, index=False)\n",
    "        bucket_target = s3.Bucket(trg_bucket)\n",
    "        bucket_target.put_object(Body=out_buffer.getvalue(), Key=key)\n",
    "        return bucket_target\n",
    "\n",
    "    def load(self, bucket_target):\n",
    "        objKey=[]\n",
    "        for obj in bucket_target.objects.all():\n",
    "            objKey.append(obj.key)\n",
    "        prq_obj = bucket_target.Object(key=objKey[-1]).get().get('Body').read()\n",
    "        data = BytesIO(prq_obj)\n",
    "        return data\n",
    "\n",
    "    def etl_report(self, bucket_target):\n",
    "        df_report = pd.read_parquet(self.load(bucket_target))\n",
    "        return df_report"
   ]
  },
  {
   "cell_type": "code",
   "execution_count": 5,
   "metadata": {},
   "outputs": [],
   "source": [
    "\n",
    "def main():\n",
    "    arg_date = '2022-04-07'\n",
    "    src_format = '%Y-%m-%d'\n",
    "    src_bucket = 'deutsche-boerse-xetra-pds'\n",
    "    trg_bucket = 'xetra-bucket-gerardo-2022'\n",
    "    columns = ['ISIN', 'Date', 'Time', 'StartPrice', 'MaxPrice', 'MinPrice', 'EndPrice', 'TradedVolume']\n",
    "    key = 'xetra_daily_report_' + datetime.today().strftime(\"%Y%m%d_%H%M%S\") + '.parquet'\n",
    "    s3 = boto3.resource('s3')\n",
    "    bucket = s3.Bucket(src_bucket)\n",
    "\n",
    "    ext = Extract(arg_date, src_format, src_bucket, trg_bucket, columns, key, s3, bucket)\n",
    "    \n",
    "    objects = ext.return_objects()\n",
    "    df_all = ext.extract(objects,columns,bucket)\n",
    "    \n",
    "    tran = Transform()\n",
    "    df_all = tran.transform_report(df_all, arg_date, columns)\n",
    "    \n",
    "\n",
    "    ld = Load()\n",
    "    bucket_target = ld.write_df_to_s3(df_all,s3,trg_bucket,key)\n",
    "    \n",
    "\n",
    "    print(ld.etl_report(bucket_target))"
   ]
  },
  {
   "cell_type": "code",
   "execution_count": 6,
   "metadata": {},
   "outputs": [
    {
     "name": "stdout",
     "output_type": "stream",
     "text": [
      "2022-04-06\n",
      "                ISIN        Date   Time StartPrice MaxPrice MinPrice EndPrice  \\\n",
      "0       AT0000A0E9W5  2022-04-06  07:00       17.8     17.8    17.79     17.8   \n",
      "1       DE000A0DJ6J9  2022-04-06  07:00      43.02    43.02    43.02    43.02   \n",
      "2       DE000A0D6554  2022-04-06  07:00     17.145    17.15    16.91    16.91   \n",
      "3       DE000A0D9PT0  2022-04-06  07:00      195.8   196.85    195.6   196.85   \n",
      "4       DE000A0HN5C6  2022-04-06  07:00      30.71    30.71    30.71    30.71   \n",
      "...              ...         ...    ...        ...      ...      ...      ...   \n",
      "329101  DE0006231004  2022-04-08  15:42      27.55    27.55    27.55    27.55   \n",
      "329102  DE000A0JL9W6  2022-04-08  15:43       85.5     85.5     85.5     85.5   \n",
      "329103  DE000A0WMPJ6  2022-04-08  15:43       19.5     19.5     19.5     19.5   \n",
      "329104  DE000A0WMPJ6  2022-04-08  15:44       19.5     19.5     19.5     19.5   \n",
      "329105  GB0007980591  2022-04-08  15:44      4.681    4.681    4.681    4.681   \n",
      "\n",
      "       TradedVolume  \n",
      "0              2040  \n",
      "1              2089  \n",
      "2             85446  \n",
      "3              2425  \n",
      "4               212  \n",
      "...             ...  \n",
      "329101          500  \n",
      "329102           89  \n",
      "329103         3000  \n",
      "329104         4293  \n",
      "329105         2780  \n",
      "\n",
      "[329106 rows x 8 columns]\n"
     ]
    },
    {
     "name": "stderr",
     "output_type": "stream",
     "text": [
      "C:\\Users\\Gerardo Rmz\\.virtualenvs\\proyectoDatosNube--50BloDe\\lib\\site-packages\\pandas\\core\\indexes\\base.py:6982: FutureWarning: In a future version, the Index constructor will not infer numeric dtypes when passed object-dtype sequences (matching Series behavior)\n",
      "  return Index(sequences[0], name=names)\n"
     ]
    },
    {
     "data": {
      "image/png": "[encoded data removed]",
      "text/plain": [
       "<Figure size 432x288 with 1 Axes>"
      ]
     },
     "metadata": {
      "needs_background": "light"
     },
     "output_type": "display_data"
    },
    {
     "name": "stdout",
     "output_type": "stream",
     "text": [
      "[6.82121026e-12]\n",
      "[[22.83]]\n"
     ]
    },
    {
     "data": {
      "image/png": "[encoded data removed]",
      "text/plain": [
       "<Figure size 432x288 with 1 Axes>"
      ]
     },
     "metadata": {
      "needs_background": "light"
     },
     "output_type": "display_data"
    },
    {
     "name": "stdout",
     "output_type": "stream",
     "text": [
      "                ISIN        Date   Time  StartPrice  EndPrice       STD  \\\n",
      "133079  AT0000652011  2022-04-07  08:00      30.350    30.350  0.000000   \n",
      "133080  CA32076V1031  2022-04-07  08:00      12.032    12.032  0.000000   \n",
      "133081  DE000ETFL011  2022-04-07  08:00     126.940   126.820  0.084853   \n",
      "133082  DE0005933931  2022-04-07  08:00     119.860   119.740  0.084853   \n",
      "133083  LU0274211480  2022-04-07  08:00     135.280   135.180  0.070711   \n",
      "...              ...         ...    ...         ...       ...       ...   \n",
      "17005            NaN         NaN    NaN         NaN       NaN       NaN   \n",
      "17006            NaN         NaN    NaN         NaN       NaN       NaN   \n",
      "17007            NaN         NaN    NaN         NaN       NaN       NaN   \n",
      "17008            NaN         NaN    NaN         NaN       NaN       NaN   \n",
      "17009            NaN         NaN    NaN         NaN       NaN       NaN   \n",
      "\n",
      "               MXN      Actual  Prediccion  \n",
      "133079   692.89050         NaN         NaN  \n",
      "133080   274.69056         NaN         NaN  \n",
      "133081  2895.30060         NaN         NaN  \n",
      "133082  2733.66420         NaN         NaN  \n",
      "133083  3086.15940         NaN         NaN  \n",
      "...            ...         ...         ...  \n",
      "17005          NaN  1303.59300  1303.59300  \n",
      "17006          NaN   557.50860   557.50860  \n",
      "17007          NaN  2454.22500  2454.22500  \n",
      "17008          NaN   571.89150   571.89150  \n",
      "17009          NaN   639.97056   639.97056  \n",
      "\n",
      "[102056 rows x 9 columns]\n",
      "                ISIN        Date   Time  StartPrice  EndPrice       STD  \\\n",
      "0       AT0000652011  2022-04-07  08:00      30.350    30.350  0.000000   \n",
      "1       CA32076V1031  2022-04-07  08:00      12.032    12.032  0.000000   \n",
      "2       DE000ETFL011  2022-04-07  08:00     126.940   126.820  0.084853   \n",
      "3       DE0005933931  2022-04-07  08:00     119.860   119.740  0.084853   \n",
      "4       LU0274211480  2022-04-07  08:00     135.280   135.180  0.070711   \n",
      "...              ...         ...    ...         ...       ...       ...   \n",
      "102051          None        None   None         NaN       NaN       NaN   \n",
      "102052          None        None   None         NaN       NaN       NaN   \n",
      "102053          None        None   None         NaN       NaN       NaN   \n",
      "102054          None        None   None         NaN       NaN       NaN   \n",
      "102055          None        None   None         NaN       NaN       NaN   \n",
      "\n",
      "               MXN      Actual  Prediccion  \n",
      "0        692.89050         NaN         NaN  \n",
      "1        274.69056         NaN         NaN  \n",
      "2       2895.30060         NaN         NaN  \n",
      "3       2733.66420         NaN         NaN  \n",
      "4       3086.15940         NaN         NaN  \n",
      "...            ...         ...         ...  \n",
      "102051         NaN  1303.59300  1303.59300  \n",
      "102052         NaN   557.50860   557.50860  \n",
      "102053         NaN  2454.22500  2454.22500  \n",
      "102054         NaN   571.89150   571.89150  \n",
      "102055         NaN   639.97056   639.97056  \n",
      "\n",
      "[102056 rows x 9 columns]\n"
     ]
    }
   ],
   "source": [
    "main()"
   ]
  }
 ],
 "metadata": {
  "interpreter": {
   "hash": "3fc101cb3b0c590d49d7b75cf33e7dfc6fd6039ad56cc5f847ff14383603a395"
  },
  "kernelspec": {
   "display_name": "Python 3 (ipykernel)",
   "language": "python",
   "name": "python3"
  },
  "language_info": {
   "codemirror_mode": {
    "name": "ipython",
    "version": 3
   },
   "file_extension": ".py",
   "mimetype": "text/x-python",
   "name": "python",
   "nbconvert_exporter": "python",
   "pygments_lexer": "ipython3",
   "version": "3.10.4"
  }
 },
 "nbformat": 4,
 "nbformat_minor": 2
}
